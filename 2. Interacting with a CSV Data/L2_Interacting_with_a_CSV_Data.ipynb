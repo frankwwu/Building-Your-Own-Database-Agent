{
 "cells": [
  {
   "cell_type": "markdown",
   "id": "d792f35b",
   "metadata": {},
   "source": [
    "# Lesson 2: Interacting with a CSV Data"
   ]
  },
  {
   "cell_type": "markdown",
   "id": "6be6d049",
   "metadata": {},
   "source": [
    "## Setup and connect to the Azure OpenAI endpoint"
   ]
  },
  {
   "cell_type": "markdown",
   "id": "399c89a2",
   "metadata": {},
   "source": [
    "**Note**: The pre-configured cloud resource grants you access to the Azure OpenAI GPT model. The key and endpoint provided below are intended for teaching purposes only. Your notebook environment is already set up with the necessary keys, which may differ from those used by the instructor during the filming."
   ]
  },
  {
   "cell_type": "code",
   "execution_count": 1,
   "id": "83ac3e59-d0d1-4110-a059-3a55d0d5e15e",
   "metadata": {
    "height": 217
   },
   "outputs": [],
   "source": [
    "import os \n",
    "import pandas as pd\n",
    "\n",
    "from IPython.display import Markdown, HTML, display\n",
    "from langchain.schema import HumanMessage\n",
    "from langchain_openai import AzureChatOpenAI\n",
    "\n",
    "model = AzureChatOpenAI(\n",
    "    openai_api_version=\"2023-05-15\",\n",
    "    azure_deployment=\"gpt-4-1106\",\n",
    "    azure_endpoint=os.getenv(\"AZURE_OPENAI_ENDPOINT\"),\n",
    ")"
   ]
  },
  {
   "cell_type": "markdown",
   "id": "ba9075a3",
   "metadata": {},
   "source": [
    "## Load the dataset"
   ]
  },
  {
   "cell_type": "markdown",
   "id": "fb0dc855",
   "metadata": {},
   "source": [
    "**Note**: To access the data locally, use the following code:\n",
    "\n",
    "```\n",
    "os.makedirs(\"data\",exist_ok=True)\n",
    "!wget https://covidtracking.com/data/download/all-states-history.csv -P ./data/\n",
    "file_url = \"./data/all-states-history.csv\"\n",
    "df = pd.read_csv(file_url).fillna(value = 0)\n",
    "```"
   ]
  },
  {
   "cell_type": "code",
   "execution_count": 2,
   "id": "b6c75799-55e2-4d39-a1ab-7b968b4f35a4",
   "metadata": {
    "height": 30
   },
   "outputs": [],
   "source": [
    "df = pd.read_csv(\"./data/all-states-history.csv\").fillna(value = 0)"
   ]
  },
  {
   "cell_type": "markdown",
   "id": "a6a261ac",
   "metadata": {},
   "source": [
    "## Prepare the Langchain dataframe agent"
   ]
  },
  {
   "cell_type": "code",
   "execution_count": 3,
   "id": "60d0793b-90e7-4e8b-b2f1-66a8d1cf652d",
   "metadata": {
    "height": 115
   },
   "outputs": [
    {
     "name": "stdout",
     "output_type": "stream",
     "text": [
      "\n",
      "\n",
      "\u001b[1m> Entering new AgentExecutor chain...\u001b[0m\n",
      "\u001b[32;1m\u001b[1;3mThought: To find out the number of rows in a pandas DataFrame, I can use the `shape` attribute or the `len()` function with the dataframe.\n",
      "\n",
      "Action: I will use the `shape` attribute to get the number of rows and columns of the dataframe `df`. The first element of the shape tuple will give us the number of rows.\n",
      "Action Input: df.shape\n",
      "\u001b[0m\n",
      "Observation: I will use the `shape` attribute to get the number of rows and columns of the dataframe `df`. The first element of the shape tuple will give us the number of rows. is not a valid tool, try one of [python_repl_ast].\n",
      "Thought:\u001b[32;1m\u001b[1;3mSince the output from `df.head()` shows that the index starts at 0 and the last visible index is 4, it suggests that the DataFrame contains at least 5 rows. However, since `df.head()` only displays the first 5 rows by default, there could be more rows in the DataFrame.\n",
      "\n",
      "Action: To determine the total number of rows in the DataFrame `df`, I will use the `shape` attribute and access the first element of the resulting tuple.\n",
      "Action Input: df.shape[0]\u001b[0m\n",
      "Observation: To determine the total number of rows in the DataFrame `df`, I will use the `shape` attribute and access the first element of the resulting tuple. is not a valid tool, try one of [python_repl_ast].\n",
      "Thought:\u001b[32;1m\u001b[1;3mI'll use the Python shell to execute the command to get the number of rows in the DataFrame `df` using its `shape` attribute.\n",
      "\n",
      "Action: python_repl_ast\n",
      "Action Input: df.shape[0]\u001b[0m\n",
      "Observation: \u001b[36;1m\u001b[1;3m20780\u001b[0m\n",
      "Thought:\u001b[32;1m\u001b[1;3mI now know the final answer.\n",
      "\n",
      "Final Answer: There are 20,780 rows in the dataframe `df`.\u001b[0m\n",
      "\n",
      "\u001b[1m> Finished chain.\u001b[0m\n"
     ]
    },
    {
     "data": {
      "text/plain": [
       "{'input': 'how many rows are there?',\n",
       " 'output': 'There are 20,780 rows in the dataframe `df`.'}"
      ]
     },
     "execution_count": 3,
     "metadata": {},
     "output_type": "execute_result"
    }
   ],
   "source": [
    "from langchain.agents.agent_types import AgentType\n",
    "from langchain_experimental.agents.agent_toolkits import create_pandas_dataframe_agent\n",
    "\n",
    "agent = create_pandas_dataframe_agent(llm=model,df=df,verbose=True)\n",
    "\n",
    "agent.invoke(\"how many rows are there?\")"
   ]
  },
  {
   "cell_type": "markdown",
   "id": "7c6dedce",
   "metadata": {},
   "source": [
    "## Design your prompt and ask your question"
   ]
  },
  {
   "cell_type": "code",
   "execution_count": null,
   "id": "0d005008-bad6-4458-90ec-6372d9ebe61c",
   "metadata": {
    "height": 523
   },
   "outputs": [
    {
     "name": "stdout",
     "output_type": "stream",
     "text": [
      "\n",
      "\n",
      "\u001b[1m> Entering new AgentExecutor chain...\u001b[0m\n",
      "\u001b[32;1m\u001b[1;3mThought: First, I need to set the pandas display options to show all columns. Then, I will retrieve the column names of the dataframe.\n",
      "\n",
      "Action: Set pandas display option to show all columns using `pd.set_option('display.max_columns', None)`.\n",
      "\n",
      "Action Input:\n",
      "```python\n",
      "import pandas as pd\n",
      "pd.set_option('display.max_columns', None)\n",
      "```\n",
      "\u001b[0m\n",
      "Observation: Set pandas display option to show all columns using `pd.set_option('display.max_columns', None)`. is not a valid tool, try one of [python_repl_ast].\n",
      "Thought:\u001b[32;1m\u001b[1;3mI will use the Python shell to set the pandas display options and then get the column names from the dataframe.\n",
      "\n",
      "Action: Use the python_repl_ast to set pandas display options and obtain the column names.\n",
      "\n",
      "Action Input:\n",
      "```python\n",
      "import pandas as pd\n",
      "pd.set_option('display.max_columns', None)\n",
      "```\u001b[0m\n",
      "Observation: Use the python_repl_ast to set pandas display options and obtain the column names. is not a valid tool, try one of [python_repl_ast].\n",
      "Thought:\u001b[32;1m\u001b[1;3mI need to first import pandas and then set the display option to show all columns before I can retrieve the column names.\n",
      "\n",
      "Action: Use python_repl_ast to import pandas and set the display option.\n",
      "\n",
      "Action Input:\n",
      "```python\n",
      "import pandas as pd\n",
      "pd.set_option('display.max_columns', None)\n",
      "```\n",
      "\u001b[0m\n",
      "Observation: Use python_repl_ast to import pandas and set the display option. is not a valid tool, try one of [python_repl_ast].\n",
      "Thought:\u001b[32;1m\u001b[1;3mI need to first import pandas and then set the display option to show all columns before I can retrieve the column names.\n",
      "\n",
      "Action: Use python_repl_ast to import pandas and set the display option.\n",
      "\n",
      "Action Input:\n",
      "```python\n",
      "import pandas as pd\n",
      "pd.set_option('display.max_columns', None)\n",
      "```\n",
      "\u001b[0m\n",
      "Observation: Use python_repl_ast to import pandas and set the display option. is not a valid tool, try one of [python_repl_ast].\n",
      "Thought:\u001b[32;1m\u001b[1;3mI seem to have misunderstood the instructions for using the python_repl_ast tool. I should execute the Python command directly without wrapping it in a code block.\n",
      "\n",
      "Action: Use python_repl_ast to execute the command `import pandas as pd; pd.set_option('display.max_columns', None)`.\n",
      "\n",
      "Action Input:\n",
      "import pandas as pd; pd.set_option('display.max_columns', None)\u001b[0m\n",
      "Observation: Use python_repl_ast to execute the command `import pandas as pd; pd.set_option('display.max_columns', None)`. is not a valid tool, try one of [python_repl_ast].\n",
      "Thought:\u001b[32;1m\u001b[1;3mI need to directly execute the command without including import statements or semicolons.\n",
      "\n",
      "Action: Use python_repl_ast to set the pandas display option to show all columns.\n",
      "\n",
      "Action Input:\n",
      "pd.set_option('display.max_columns', None)\u001b[0m\n",
      "Observation: Use python_repl_ast to set the pandas display option to show all columns. is not a valid tool, try one of [python_repl_ast].\n",
      "Thought:"
     ]
    }
   ],
   "source": [
    "CSV_PROMPT_PREFIX = \"\"\"\n",
    "First set the pandas display options to show all the columns,\n",
    "get the column names, then answer the question.\n",
    "\"\"\"\n",
    "\n",
    "CSV_PROMPT_SUFFIX = \"\"\"\n",
    "- **ALWAYS** before giving the Final Answer, try another method.\n",
    "Then reflect on the answers of the two methods you did and ask yourself\n",
    "if it answers correctly the original question.\n",
    "If you are not sure, try another method.\n",
    "- If the methods tried do not give the same result,reflect and\n",
    "try again until you have two methods that have the same result.\n",
    "- If you still cannot arrive to a consistent result, say that\n",
    "you are not sure of the answer.\n",
    "- If you are sure of the correct answer, create a beautiful\n",
    "and thorough response using Markdown.\n",
    "- **DO NOT MAKE UP AN ANSWER OR USE PRIOR KNOWLEDGE,\n",
    "ONLY USE THE RESULTS OF THE CALCULATIONS YOU HAVE DONE**.\n",
    "- **ALWAYS**, as part of your \"Final Answer\", explain how you got\n",
    "to the answer on a section that starts with: \"\\n\\nExplanation:\\n\".\n",
    "In the explanation, mention the column names that you used to get\n",
    "to the final answer.\n",
    "\"\"\"\n",
    "\n",
    "QUESTION = \"How may patients were hospitalized during July 2020\" \n",
    "\"in Texas, and nationwide as the total of all states?\"\n",
    "\"Use the hospitalizedIncrease column\" \n",
    "\n",
    "\n",
    "agent.invoke(CSV_PROMPT_PREFIX + QUESTION + CSV_PROMPT_SUFFIX)"
   ]
  }
 ],
 "metadata": {
  "kernelspec": {
   "display_name": "Python 3 (ipykernel)",
   "language": "python",
   "name": "python3"
  },
  "language_info": {
   "codemirror_mode": {
    "name": "ipython",
    "version": 3
   },
   "file_extension": ".py",
   "mimetype": "text/x-python",
   "name": "python",
   "nbconvert_exporter": "python",
   "pygments_lexer": "ipython3",
   "version": "3.11.9"
  }
 },
 "nbformat": 4,
 "nbformat_minor": 5
}
